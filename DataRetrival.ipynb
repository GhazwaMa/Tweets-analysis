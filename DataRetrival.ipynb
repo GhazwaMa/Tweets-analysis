{
 "cells": [
  {
   "cell_type": "code",
   "execution_count": null,
   "metadata": {},
   "outputs": [],
   "source": [
    "from tweepy import OAuthHandler\n",
    "from tweepy import API\n",
    "from tweepy.streaming import StreamListener\n",
    "from tweepy import Stream\n",
    "import tweepy\n",
    "import json\n",
    "import time\n",
    "import sys\n",
    "import json, csv "
   ]
  },
  {
   "cell_type": "code",
   "execution_count": null,
   "metadata": {},
   "outputs": [],
   "source": [
    "ckey = '2m1E6X1EAbW1SV62ttPMyqhvd'\n",
    "csecret = 'VsSIVQdVlO1ed8i1nZMfvvbugs2BpjlODONiYOUNV0Smb4vPZH'\n",
    "atoken = '1329869949746237441-aNeNnkp5IELIpaM6gCqLAfBSYP3hDb'\n",
    "asecret = '8PI1XoNyz1Y3RGlAqowHNW6LgaAnVsMX0HEeOZu3aq6Pv'\n",
    "\n",
    "auth = OAuthHandler(ckey, csecret)\n",
    "auth.set_access_token(atoken, asecret)\n",
    "api = tweepy.API(auth)\n",
    "\n",
    "\n",
    "class Tweetlistener(StreamListener):\n",
    "    def on_data(self, data):\n",
    "        tweet = json.loads(data)\n",
    "        text = tweet[\"text\"]\n",
    "        source = tweet[\"source\"]\n",
    "        user = tweet[\"user\"][\"screen_name\"]\n",
    "        with open('data_tweets.csv', 'a') as f:\n",
    "            writer = csv.writer(f)\n",
    "            writer.writerow([user,text, source])\n",
    "\n",
    "    def on_status(self, status):\n",
    "        self.output.write(status)\n",
    "        self.counter += 1\n",
    "        if self.counter >= 20000:\n",
    "            self.output.close()\n",
    "            self.output  = open('%s_%s.json' % (self.fprefix, time.strftime('%Y%m%d-%H%M%S')), 'w')\n",
    "            self.counter = 0\n",
    "        return\n",
    "\n",
    "    def on_error(self, status):\n",
    "        print(status)\n",
    "    \n",
    "    def on_timeout(self):\n",
    "        print(\"Timeout, sleeping for 60 seconds...\")\n",
    "        time.sleep(60)\n",
    "        return\n",
    "\n",
    "\n",
    "twitterStream = Stream(auth, Tweetlistener(), secure = True)\n",
    "twitterStream.filter(languages=[\"en\"], track=[\"corona\",\"COVID\"])"
   ]
  },
  {
   "cell_type": "code",
   "execution_count": null,
   "metadata": {},
   "outputs": [],
   "source": []
  }
 ],
 "metadata": {
  "kernelspec": {
   "display_name": "Python 3",
   "language": "python",
   "name": "python3"
  },
  "language_info": {
   "codemirror_mode": {
    "name": "ipython",
    "version": 3
   },
   "file_extension": ".py",
   "mimetype": "text/x-python",
   "name": "python",
   "nbconvert_exporter": "python",
   "pygments_lexer": "ipython3",
   "version": "3.7.3"
  }
 },
 "nbformat": 4,
 "nbformat_minor": 4
}
